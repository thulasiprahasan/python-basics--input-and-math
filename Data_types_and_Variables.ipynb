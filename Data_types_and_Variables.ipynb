{
  "nbformat": 4,
  "nbformat_minor": 0,
  "metadata": {
    "colab": {
      "provenance": [],
      "collapsed_sections": [],
      "authorship_tag": "ABX9TyOXiw2GfLmAUoYAB9Z8vJ1Q",
      "include_colab_link": true
    },
    "kernelspec": {
      "name": "python3",
      "display_name": "Python 3"
    },
    "language_info": {
      "name": "python"
    }
  },
  "cells": [
    {
      "cell_type": "markdown",
      "metadata": {
        "id": "view-in-github",
        "colab_type": "text"
      },
      "source": [
        "<a href=\"https://colab.research.google.com/github/thulasiprahasan/python-basics--input-and-math/blob/main/Data_types_and_Variables.ipynb\" target=\"_parent\"><img src=\"https://colab.research.google.com/assets/colab-badge.svg\" alt=\"Open In Colab\"/></a>"
      ]
    },
    {
      "cell_type": "code",
      "execution_count": 10,
      "metadata": {
        "colab": {
          "base_uri": "https://localhost:8080/"
        },
        "id": "djhsmlummldZ",
        "outputId": "cf8f06ad-ee98-4e5f-ea40-46919c707a91"
      },
      "outputs": [
        {
          "output_type": "stream",
          "name": "stdout",
          "text": [
            " Tia\n",
            "<class 'str'>\n",
            " TiaIsham\n",
            "your age is 21\n",
            "your height is 150.4cm\n",
            "Are you a human:True\n"
          ]
        }
      ],
      "source": [
        "# Variable\n",
        "name = \" Tia\"\n",
        "print(name)\n",
        "\n",
        "# Data types\n",
        "# 1. String datatype\n",
        "\n",
        "# We use + sign to combine two strings\n",
        "\n",
        "# to check the type of date\n",
        "print(type(name))\n",
        "\n",
        "first_name= \" Tia\"\n",
        "last_name= \"Isham\"\n",
        "full_name = first_name + last_name\n",
        "print(full_name)\n",
        "\n",
        "# 2. integer datatype (whole numbers- no decimals)\n",
        "\n",
        "age = 21\n",
        "#print(age)\n",
        " # if you want to display a different data type along with string data type we use type casting\n",
        "\n",
        "print(\"your age is \" + str(age))\n",
        "\n",
        "# 3. float data type(floating numbers or decimals)\n",
        "\n",
        "height = 150.4\n",
        "\n",
        "print(\"your height is \" +str(height) + \"cm\")\n",
        "\n",
        "\n",
        "# 4. Boolean data type(true or false- used in if condition)\n",
        "\n",
        "human = True\n",
        "print(\"Are you a human:\" + str(human))"
      ]
    }
  ]
}
