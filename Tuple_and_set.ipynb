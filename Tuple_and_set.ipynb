{
  "nbformat": 4,
  "nbformat_minor": 0,
  "metadata": {
    "colab": {
      "provenance": [],
      "collapsed_sections": [],
      "authorship_tag": "ABX9TyPJtc0zsNbKsXAFXC2fCUOj",
      "include_colab_link": true
    },
    "kernelspec": {
      "name": "python3",
      "display_name": "Python 3"
    },
    "language_info": {
      "name": "python"
    }
  },
  "cells": [
    {
      "cell_type": "markdown",
      "metadata": {
        "id": "view-in-github",
        "colab_type": "text"
      },
      "source": [
        "<a href=\"https://colab.research.google.com/github/thulasiprahasan/python-basics--input-and-math/blob/main/Tuple_and_set.ipynb\" target=\"_parent\"><img src=\"https://colab.research.google.com/assets/colab-badge.svg\" alt=\"Open In Colab\"/></a>"
      ]
    },
    {
      "cell_type": "code",
      "execution_count": 8,
      "metadata": {
        "colab": {
          "base_uri": "https://localhost:8080/"
        },
        "id": "78oJInH6fsay",
        "outputId": "2c89b22f-d203-4f0b-e1e4-23253851adcb"
      },
      "outputs": [
        {
          "output_type": "stream",
          "name": "stdout",
          "text": [
            "{'knife'}\n"
          ]
        }
      ],
      "source": [
        "#tuple- collection which is ordered and unchangeable used to group together related data\n",
        "# similar to list. They are ordered but we cant change them.\n",
        "# to create some sort of student records\n",
        "\n",
        "#student =(\"Tia\",21,\"female\")\n",
        "\n",
        "# to check how many times an index appeared\n",
        "#print(student.count(\"Tia\"))\n",
        "\n",
        "# to check the index \n",
        "#print(student.index(\"female\"))\n",
        " # you can also use a for loop to print the value of tuple\n",
        "\n",
        "#for i in student:\n",
        " #  print(i)\n",
        "\n",
        "# to check a certain value exists within tuple using if statement\n",
        "\n",
        "#if \"Tia\" in student:\n",
        " # print(\"Hi Tia\")\n",
        "\n",
        "# Set- collection which is unordered, unindexed. they do not allow any duplicate values\n",
        "\n",
        "#utensils = {\"fork\",\"spoon\",\"knife\"}\n",
        "\n",
        "#print(utensils)\n",
        "\n",
        "# to add any item in set\n",
        "#utensils.add(\"napkin\")\n",
        "\n",
        "# to remove any item\n",
        "#utensils.remove(\"fork\")\n",
        "\n",
        "# to clear\n",
        "#utensils.clear()\n",
        "\n",
        "# adding another sets\n",
        "\n",
        "utensils = {\"fork\",\"spoon\",\"knife\"}\n",
        "dishes = {\"plate\",\"glass\",\"bowl\",\"cup\",\"knife\"}\n",
        "\n",
        "# to update any set\n",
        "#utensils.update(dishes)\n",
        "#dishes.update(utensils)\n",
        " \n",
        " # to join two sets and create new set\n",
        "#dinner_table = utensils.union(dishes)\n",
        "\n",
        "\n",
        "# to compare the similarities and difference between two sets(what one set have and the other set haven't)\n",
        "#print(utensils.difference(dishes))\n",
        "\n",
        "# to find out any items common in both sets\n",
        "\n",
        "print(utensils.intersection(dishes))\n",
        "#for x in dinner_table:\n",
        " # print(x)\n",
        "\n",
        "# you can see the output is in different order.\n",
        "# a set is actually faster than list to check something is within a set and they do not allow any duplicates\n",
        "\n",
        "\n",
        "\n"
      ]
    }
  ]
}