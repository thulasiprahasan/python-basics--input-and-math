{
  "nbformat": 4,
  "nbformat_minor": 0,
  "metadata": {
    "colab": {
      "provenance": [],
      "collapsed_sections": [],
      "authorship_tag": "ABX9TyPvAI8S+KVQE75EQ+FyN/OI",
      "include_colab_link": true
    },
    "kernelspec": {
      "name": "python3",
      "display_name": "Python 3"
    },
    "language_info": {
      "name": "python"
    }
  },
  "cells": [
    {
      "cell_type": "markdown",
      "metadata": {
        "id": "view-in-github",
        "colab_type": "text"
      },
      "source": [
        "<a href=\"https://colab.research.google.com/github/thulasiprahasan/python-basics--input-and-math/blob/main/Function.ipynb\" target=\"_parent\"><img src=\"https://colab.research.google.com/assets/colab-badge.svg\" alt=\"Open In Colab\"/></a>"
      ]
    },
    {
      "cell_type": "code",
      "execution_count": 12,
      "metadata": {
        "colab": {
          "base_uri": "https://localhost:8080/"
        },
        "id": "kXKJgZLuGbgd",
        "outputId": "ddf64343-902d-4b04-cc4b-4c1f1031ad3e"
      },
      "outputs": [
        {
          "output_type": "stream",
          "name": "stdout",
          "text": [
            "hello Tia Isham\n",
            "you are 21 years old\n",
            "have a nice day!\n"
          ]
        }
      ],
      "source": [
        "# function- a block of code is executed when it is called\n",
        "\n",
        "# syntax\n",
        "#def -define\n",
        "\n",
        "#def hello(name):\n",
        " # print(\"hello \" + name)\n",
        "  #print(\"have a nice day!\")\n",
        "\n",
        "#hello(\"Tia\")\n",
        "# if you want to say hello with some name\n",
        "# you can pass the arguments- information that your are sending to a function. that has to match with the parameters\n",
        "# Tia is the argument and name is the parameter\n",
        "\n",
        "\n",
        "# if you want the function to accept two or more arguments you need to pass the parameters accordingly\n",
        "# for eg: first and last name and age\n",
        "\n",
        "def hello(First_name, last_name,age):\n",
        " print(\"hello \" +First_name+ \" \" + last_name) \n",
        " print(\"you are \"+ str(age)+\" \"+ \"years old\")\n",
        " print(\"have a nice day!\")\n",
        "\n",
        "hello(\"Tia\",\"Isham\",21)  \n",
        "\n"
      ]
    }
  ]
}