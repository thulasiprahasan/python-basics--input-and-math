{
  "nbformat": 4,
  "nbformat_minor": 0,
  "metadata": {
    "colab": {
      "provenance": [],
      "collapsed_sections": [],
      "authorship_tag": "ABX9TyO4gOM8LPsXNeVg0no7lkjB",
      "include_colab_link": true
    },
    "kernelspec": {
      "name": "python3",
      "display_name": "Python 3"
    },
    "language_info": {
      "name": "python"
    }
  },
  "cells": [
    {
      "cell_type": "markdown",
      "metadata": {
        "id": "view-in-github",
        "colab_type": "text"
      },
      "source": [
        "<a href=\"https://colab.research.google.com/github/thulasiprahasan/python-basics--input-and-math/blob/main/Dictionaries3.ipynb\" target=\"_parent\"><img src=\"https://colab.research.google.com/assets/colab-badge.svg\" alt=\"Open In Colab\"/></a>"
      ]
    },
    {
      "cell_type": "code",
      "execution_count": 16,
      "metadata": {
        "id": "ijIvLm1BcDG1"
      },
      "outputs": [],
      "source": [
        "# Dictionaries\n",
        "#A changeable, unordered collection of unique key: value pairs fast becuase they use hashing, allow us to access a value quickly\n",
        "# Simillar to create set but we need a key: and a value\n",
        "\n",
        "capitals ={'USA':'Washington DC',\n",
        "           'India': 'New Delhi',\n",
        "           'China': 'Beijing',\n",
        "           'Russia':'Moscow'}\n",
        "\n",
        " # to access one of these values associated with the key          \n",
        "#print(capitals['Russia'])           \n",
        "\n",
        "# If you type germany, it will show you error, becuase germany is not in the dictionary. So to avoid that we use get method\n",
        "#print(capitals.get('Germany')) \n",
        "\n",
        "# to print only the keys not the values\n",
        "#print(capitals.keys())\n",
        "\n",
        "# to print only the values not the keys\n",
        "#print(capitals.values())\n",
        "\n",
        "# to print both keys and values\n",
        "#print(capitals.items())\n",
        "\n",
        "\n",
        "# to add any item\n",
        "capitals.update({'Germany': 'Berlin'})\n",
        "\n",
        "# to change any value in the dictionary\n",
        "capitals.update({'USA':'lasvegas'})\n",
        "\n",
        "# to remove a key value pair\n",
        "capitals.pop('China')\n",
        "\n",
        "# to clear the dictionary\n",
        "capitals.clear()\n",
        "\n",
        "# another way of printing the dictionary using for loop\n",
        "for key,value in capitals.items():\n",
        "  print(key,value)"
      ]
    },
    {
      "cell_type": "code",
      "source": [],
      "metadata": {
        "id": "9E1T5xdpgTwS"
      },
      "execution_count": null,
      "outputs": []
    }
  ]
}