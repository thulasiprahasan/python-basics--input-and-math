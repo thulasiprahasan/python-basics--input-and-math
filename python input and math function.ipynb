{
  "nbformat": 4,
  "nbformat_minor": 0,
  "metadata": {
    "colab": {
      "provenance": [],
      "collapsed_sections": [],
      "authorship_tag": "ABX9TyOYPhio/NUC1rtO98pkGtx1",
      "include_colab_link": true
    },
    "kernelspec": {
      "name": "python3",
      "display_name": "Python 3"
    },
    "language_info": {
      "name": "python"
    }
  },
  "cells": [
    {
      "cell_type": "markdown",
      "metadata": {
        "id": "view-in-github",
        "colab_type": "text"
      },
      "source": [
        "<a href=\"https://colab.research.google.com/github/thulasiprahasan/python-basics--input-and-math/blob/main/python%20input%20and%20math%20function.ipynb\" target=\"_parent\"><img src=\"https://colab.research.google.com/assets/colab-badge.svg\" alt=\"Open In Colab\"/></a>"
      ]
    },
    {
      "cell_type": "code",
      "execution_count": null,
      "metadata": {
        "id": "2nxzkRfsgBfs"
      },
      "outputs": [],
      "source": []
    },
    {
      "cell_type": "code",
      "source": [
        "#Input function\n",
        "import math \n",
        "name= \"tia\"\n",
        "print(name)\n",
        "\n",
        "age = 21\n",
        "print(age)\n",
        "\n",
        "pi = 3.14\n",
        "x= 1\n",
        "y=2\n",
        "z=3\n",
        "\n",
        "#round- to round off a number\n",
        "#print(round(pi))\n",
        "#math.ceil- ceiling to round a number up\n",
        "#print(math.ceil(pi))\n",
        "# math.floor- to  round a number down\n",
        "#print(math.floor(pi))\n",
        "# abs- absolute value- how far a number is away from Zero\n",
        "#print(abs(pi))\n",
        "#pow-(power)- will raise a base number to power\n",
        "#print(pow(pi,2))\n",
        "#math.sqrt-squareroot\n",
        "#print(math.sqrt(8))\n",
        "#max function- will find the largest of a varying amount of value\n",
        "#print(max(x,y,z))\n",
        "#min function( will find the minimum amount(smallest))\n",
        "print(min(x,y,z))"
      ],
      "metadata": {
        "colab": {
          "base_uri": "https://localhost:8080/"
        },
        "id": "VPdmCKINgDg-",
        "outputId": "bcc5b124-1f22-4b40-c6c8-4a07e3225e3a"
      },
      "execution_count": 18,
      "outputs": [
        {
          "output_type": "stream",
          "name": "stdout",
          "text": [
            "tia\n",
            "21\n",
            "1\n"
          ]
        }
      ]
    }
  ]
}