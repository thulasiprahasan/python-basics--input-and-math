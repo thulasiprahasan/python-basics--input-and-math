{
  "nbformat": 4,
  "nbformat_minor": 0,
  "metadata": {
    "colab": {
      "provenance": [],
      "collapsed_sections": [],
      "authorship_tag": "ABX9TyPxrwS6O4sujWf03ffke/lZ",
      "include_colab_link": true
    },
    "kernelspec": {
      "name": "python3",
      "display_name": "Python 3"
    },
    "language_info": {
      "name": "python"
    }
  },
  "cells": [
    {
      "cell_type": "markdown",
      "metadata": {
        "id": "view-in-github",
        "colab_type": "text"
      },
      "source": [
        "<a href=\"https://colab.research.google.com/github/thulasiprahasan/python-basics--input-and-math/blob/main/Multiple_assignment.ipynb\" target=\"_parent\"><img src=\"https://colab.research.google.com/assets/colab-badge.svg\" alt=\"Open In Colab\"/></a>"
      ]
    },
    {
      "cell_type": "code",
      "execution_count": 2,
      "metadata": {
        "id": "elcAnfjuVyhF",
        "colab": {
          "base_uri": "https://localhost:8080/"
        },
        "outputId": "d210004e-a2b9-451f-ee70-86b316b9699e"
      },
      "outputs": [
        {
          "output_type": "stream",
          "name": "stdout",
          "text": [
            "Tia\n",
            "21\n",
            "180.5\n",
            "5 5 5\n"
          ]
        }
      ],
      "source": [
        "# multiple assignment- to assign multiple variables at the same time in one line of code\n",
        "name, age, height = \"Tia\",21,180.5\n",
        "print(name)\n",
        "print(age)\n",
        "print(height)\n",
        "\n",
        "# if the value of variables are same, we can iuise multiple assignment\n",
        "x=5\n",
        "y=5\n",
        "z=5\n",
        "print(x,y,z)\n"
      ]
    }
  ]
}