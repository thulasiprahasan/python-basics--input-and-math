{
  "nbformat": 4,
  "nbformat_minor": 0,
  "metadata": {
    "colab": {
      "provenance": [],
      "collapsed_sections": [],
      "authorship_tag": "ABX9TyOsRwsjwysPBwR/9oJapSZz",
      "include_colab_link": true
    },
    "kernelspec": {
      "name": "python3",
      "display_name": "Python 3"
    },
    "language_info": {
      "name": "python"
    }
  },
  "cells": [
    {
      "cell_type": "markdown",
      "metadata": {
        "id": "view-in-github",
        "colab_type": "text"
      },
      "source": [
        "<a href=\"https://colab.research.google.com/github/thulasiprahasan/python-basics--input-and-math/blob/main/Lists.ipynb\" target=\"_parent\"><img src=\"https://colab.research.google.com/assets/colab-badge.svg\" alt=\"Open In Colab\"/></a>"
      ]
    },
    {
      "cell_type": "code",
      "execution_count": 24,
      "metadata": {
        "colab": {
          "base_uri": "https://localhost:8080/"
        },
        "id": "F5tN5aCPYuwg",
        "outputId": "9b94b35b-b213-495b-93bf-1d88e7262ec0"
      },
      "outputs": [
        {
          "output_type": "stream",
          "name": "stdout",
          "text": [
            "[['mango', 'pineapple', 'soda', 'tea'], ['pizza', 'mango', 'icecream', 'burgers', 'juice'], ['cake', 'icecream']]\n",
            "pineapple\n"
          ]
        }
      ],
      "source": [
        "#Lists\n",
        "# like arrays- to store multiple items in single variable\n",
        "\n",
        "#food = [\"pizza\",\"mango\",\"icecream\",\"burgers\",\"juice\"]\n",
        "#print(food)\n",
        "#print(food[0])\n",
        "#print(food[2])\n",
        "\n",
        " # to replace any item in list\n",
        "#food[3]) = \"orange\"\n",
        "#print(food[3])\n",
        "\n",
        "  # to add any item to the list\n",
        "#food.append(\"grapes\")\n",
        "\n",
        "# to remove any item\n",
        "#food.remove(\"icecream\") \n",
        "\n",
        "# to remove any item from the last index\n",
        "#food.pop()\n",
        "\n",
        "# to insert any item \n",
        "#food.insert(0,\"cake\")\n",
        "\n",
        "# to clear the list\n",
        "#food.clear()\n",
        "\n",
        "# to sort the list aplphabetically\n",
        "#food.sort()\n",
        " # we can also do the same with a standard for loop\n",
        "\n",
        "#for i in food:\n",
        "   #print(i)\n",
        "\n",
        "\n",
        "# 2d lists- list of lists\n",
        " \n",
        "drinks = [\"mango\",\"pineapple\",\"soda\",\"tea\"]\n",
        "dinner = [\"pizza\",\"mango\",\"icecream\",\"burgers\",\"juice\"]\n",
        "desert = [\"cake\",\"icecream\"]\n",
        "\n",
        "food =[drinks,dinner,desert]\n",
        "print(food)\n",
        "\n",
        "# to access any items of list in lists\n",
        "print(food[0][1])\n"
      ]
    }
  ]
}