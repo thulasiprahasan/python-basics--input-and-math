{
  "nbformat": 4,
  "nbformat_minor": 0,
  "metadata": {
    "colab": {
      "provenance": [],
      "collapsed_sections": [],
      "authorship_tag": "ABX9TyNJmZo+janW48b4+ct+9cXP",
      "include_colab_link": true
    },
    "kernelspec": {
      "name": "python3",
      "display_name": "Python 3"
    },
    "language_info": {
      "name": "python"
    }
  },
  "cells": [
    {
      "cell_type": "markdown",
      "metadata": {
        "id": "view-in-github",
        "colab_type": "text"
      },
      "source": [
        "<a href=\"https://colab.research.google.com/github/thulasiprahasan/python-basics--input-and-math/blob/main/Slicing%2Cif_and_if_else_statment.ipynb\" target=\"_parent\"><img src=\"https://colab.research.google.com/assets/colab-badge.svg\" alt=\"Open In Colab\"/></a>"
      ]
    },
    {
      "cell_type": "code",
      "execution_count": null,
      "metadata": {
        "colab": {
          "base_uri": "https://localhost:8080/"
        },
        "id": "ros-DLjy5f7u",
        "outputId": "fe7572b1-0d68-48fd-a4b4-b94eb821723b"
      },
      "outputs": [
        {
          "output_type": "stream",
          "name": "stdout",
          "text": [
            "what is the temperature outside?:30\n",
            "its bad temp today\n"
          ]
        }
      ],
      "source": [
        "#slicing string- create  a substring by extracting elements from another string\n",
        "#indexing[ ] or slice()\n",
        "# [start:stop:step]\n",
        "\n",
        "\n",
        #name= "Tia Isham"
        "#last_name = name[4:9]\n",
        "#print(last_name)\n",
        "#funny_name= name[0:9:3]\n",
        "#print(funny_name)\n",
        "# reverse a string- using  a negative\n",
        "#reversed_name= name[::-1]\n",
        "#print(reversed_name)\n",
        "#slicing function- to slice a certaian character from string\n",
        "#website = \"http://google.com\"\n",
        "#slice = slice(7,-4)\n",
        "#print(website[slice])\n",
        "\n",
        "\n",
        "#if statement/else statement and else if statements- a block of code execute only if it is true\n",
        "\n",
        "#age = int(input(\"How old are you?:\" ))\n",
        "#if age == 100:\n",
        " # print(\"you are a century old\")\n",
        "#elif age >= 18:\n",
        " # print(\"you are an adult\")\n",
        "\n",
        "#elif age < 0:\n",
        " #   print(\"you haven't born yet\")\n",
        "#else:\n",
        " # print(\"you are a child\")\n",
        "\n",
        "\n",
        "\n",
        " # logical operators(and, or, not) to check two or more conditional statements are true\n",
        "# for and operator- both conditions must true\n",
        "# for or operator - either 1 condition should be true\n",
        "# for not operator- it shows the opposite, if it is true, it flip to false and viceversa\n",
        "\n",
        "temp = int(input(\"what is the temperature outside?:\"))\n",
        "if temp >=0 and temp <= 30:\n",
        "  print(\"the temperature is good today\")\n",
        "  print(\"lets go outside\") \n",
        "elif temp < 0 or temp > 30:\n",
        "  print(\"its bad temp today\")\n",
        "\n",
        "if not(temp >=0 and temp <= 30):\n",
        "  print(\"its bad temp today\")\n",
        "  print(\"lets not go outside\") \n",
        "elif not(temp < 0 or temp > 30):\n",
        "  print(\"its bad temp today\")\n",
        "\n",
        "\n",
        "  "
      ]
    }
  ]
}
