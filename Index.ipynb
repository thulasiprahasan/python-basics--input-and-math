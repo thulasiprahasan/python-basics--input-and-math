{
  "nbformat": 4,
  "nbformat_minor": 0,
  "metadata": {
    "colab": {
      "provenance": [],
      "collapsed_sections": [],
      "authorship_tag": "ABX9TyMmMmduwpIql+LsZ0vfSj+4",
      "include_colab_link": true
    },
    "kernelspec": {
      "name": "python3",
      "display_name": "Python 3"
    },
    "language_info": {
      "name": "python"
    }
  },
  "cells": [
    {
      "cell_type": "markdown",
      "metadata": {
        "id": "view-in-github",
        "colab_type": "text"
      },
      "source": [
        "<a href=\"https://colab.research.google.com/github/thulasiprahasan/python-basics--input-and-math/blob/main/Index.ipynb\" target=\"_parent\"><img src=\"https://colab.research.google.com/assets/colab-badge.svg\" alt=\"Open In Colab\"/></a>"
      ]
    },
    {
      "cell_type": "code",
      "execution_count": 19,
      "metadata": {
        "colab": {
          "base_uri": "https://localhost:8080/"
        },
        "id": "V1wcd3B0B4W6",
        "outputId": "945ebd5a-ee1e-4e38-bf8f-8cba8e585ce1"
      },
      "outputs": [
        {
          "output_type": "stream",
          "name": "stdout",
          "text": [
            "TIA\n",
            "isham!\n",
            "!\n"
          ]
        }
      ],
      "source": [
        "# Index - []= gives access to a asequence's element(str,list,tuplis)\n",
        "name = \"tia isham!\"\n",
        " \n",
        " # to change any item from lower to upper case\n",
        "\n",
        "#if(name[0].islower()):\n",
        "  #name = name.capitalize()\n",
        "\n",
        "# to change first 3 elements to upper case\n",
        "\n",
        "first_name = name[:3].upper()\n",
        "# change the last 4  in lower \n",
        "last_name= name[4:].lower()\n",
        "\n",
        "# to access the last item in the list\n",
        "last_character= name[-1]\n",
        "print(first_name)  \n",
        "print(last_name)\n",
        "print(last_character)"
      ]
    }
  ]
}